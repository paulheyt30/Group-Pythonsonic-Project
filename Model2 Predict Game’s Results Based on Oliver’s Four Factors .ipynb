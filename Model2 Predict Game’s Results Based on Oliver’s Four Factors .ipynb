{
 "cells": [
  {
   "cell_type": "markdown",
   "metadata": {
    "colab": {},
    "colab_type": "code",
    "id": "BD4yBpjEXrNC"
   },
   "source": [
    "#Model2: Predict Game’s Results Based on Oliver’s Four Factors \n",
    "\n",
    "7 Models to predict the accuracy of Four Factors in influencing the winning rate of the game\n"
   ]
  },
  {
   "cell_type": "code",
   "execution_count": 51,
   "metadata": {},
   "outputs": [],
   "source": [
    "import numpy as np\n",
    "import pandas as pd\n",
    "import matplotlib.pyplot as plt\n",
    "\n",
    "from sklearn.linear_model import LinearRegression\n",
    "lin_regression = LinearRegression()\n",
    "\n",
    "from sklearn.metrics import mean_squared_error, r2_score"
   ]
  },
  {
   "cell_type": "code",
   "execution_count": 52,
   "metadata": {},
   "outputs": [],
   "source": [
    "from sklearn.linear_model import LogisticRegression\n",
    "log_regression = LogisticRegression(solver='lbfgs')"
   ]
  },
  {
   "cell_type": "code",
   "execution_count": 53,
   "metadata": {
    "scrolled": true
   },
   "outputs": [
    {
     "data": {
      "text/plain": [
       "Index(['gmDate', 'gmTime', 'seasTyp', 'offLNm1', 'offFNm1', 'offLNm2',\n",
       "       'offFNm2', 'offLNm3', 'offFNm3', 'teamAbbr',\n",
       "       ...\n",
       "       'opptFIC40', 'opptOrtg', 'opptDrtg', 'opptEDiff', 'opptPlay%', 'opptAR',\n",
       "       'opptAST/TO', 'opptSTL/TO', 'poss', 'pace'],\n",
       "      dtype='object', length=121)"
      ]
     },
     "execution_count": 53,
     "metadata": {},
     "output_type": "execute_result"
    }
   ],
   "source": [
    "data = pd.read_csv('/Users/wenhui/Desktop/Python project/2012-18_teamBoxScore(1).csv')\n",
    "data.head()\n",
    "data.columns"
   ]
  },
  {
   "cell_type": "code",
   "execution_count": 54,
   "metadata": {},
   "outputs": [],
   "source": [
    "#Calculate the team's and opponent's Effective Field Goal Percentage as given in the dataset:\n",
    "#Formula: team's eFG%=(teamFGM+0.5*team3PM)/teamFGA  opponent's eFG%=(opptFGM+0.5*oppt3PM)/opptFGA\n",
    "#_________________\n",
    "#Calculate the team's and opponent's Turnover Percentage(TOV%) as not given in the dataset:\n",
    "#Formula: teamTOV%=teamTO / (teamFGA + 0.44*teamFTA + teamTO) opptTOV%=opptTO/(opptFGA+0.44*opptFTA+opptTO)         \n",
    "data['teamTOV%'] = data['teamTO'] / (data['teamFGA'] + 0.44*data['teamFTA']+data['teamTO'])\n",
    "data['opptTOV%']= data['opptTO'] / (data['opptFGA'] + 0.44*data ['opptFTA']+data['opptTO'])\n",
    "#__________________\n",
    "#Calculate the team's Offencive and Defensive Rebound Percentage(OREB% & DREB%) as not given in the dataset:\n",
    "#Formula: teamOREB%= teamORB / (teamORB + opptDRB)  teamDREB%= teamDRB / (opptORB + teamDRB)\n",
    "data['teamOREB%']=data['teamORB']/ (data['teamORB']+data['opptDRB'])\n",
    "data['teamDREB%']=data['teamDRB']/ (data['opptORB']+data['teamDRB'])\n",
    "#__________________ \n",
    "#Calculate the team's and opponent's Freethrow Rate(teamFTR% & opptFTR%) as not given in the dataset:\n",
    "#Formula: teamFTR%= teamFTA / teamFGA    opptFTR%= opptFTA / opptFGA\n",
    "data['teamFTR%']=data['teamFTA'] / data['teamFGA']\n",
    "data['opptFTR%']=data['opptFTA'] / data['opptFGA']"
   ]
  },
  {
   "cell_type": "code",
   "execution_count": 55,
   "metadata": {},
   "outputs": [
    {
     "data": {
      "text/html": [
       "<div>\n",
       "<style scoped>\n",
       "    .dataframe tbody tr th:only-of-type {\n",
       "        vertical-align: middle;\n",
       "    }\n",
       "\n",
       "    .dataframe tbody tr th {\n",
       "        vertical-align: top;\n",
       "    }\n",
       "\n",
       "    .dataframe thead th {\n",
       "        text-align: right;\n",
       "    }\n",
       "</style>\n",
       "<table border=\"1\" class=\"dataframe\">\n",
       "  <thead>\n",
       "    <tr style=\"text-align: right;\">\n",
       "      <th></th>\n",
       "      <th>teamRslt</th>\n",
       "      <th>teamEFG%</th>\n",
       "      <th>opptEFG%</th>\n",
       "      <th>teamTOV%</th>\n",
       "      <th>opptTOV%</th>\n",
       "      <th>teamOREB%</th>\n",
       "      <th>teamDREB%</th>\n",
       "      <th>teamFTR%</th>\n",
       "      <th>opptFTR%</th>\n",
       "    </tr>\n",
       "  </thead>\n",
       "  <tbody>\n",
       "    <tr>\n",
       "      <th>0</th>\n",
       "      <td>Loss</td>\n",
       "      <td>0.4000</td>\n",
       "      <td>0.5000</td>\n",
       "      <td>0.116279</td>\n",
       "      <td>0.191466</td>\n",
       "      <td>0.333333</td>\n",
       "      <td>0.538462</td>\n",
       "      <td>0.222222</td>\n",
       "      <td>0.278481</td>\n",
       "    </tr>\n",
       "    <tr>\n",
       "      <th>1</th>\n",
       "      <td>Win</td>\n",
       "      <td>0.5000</td>\n",
       "      <td>0.4000</td>\n",
       "      <td>0.191466</td>\n",
       "      <td>0.116279</td>\n",
       "      <td>0.461538</td>\n",
       "      <td>0.666667</td>\n",
       "      <td>0.278481</td>\n",
       "      <td>0.222222</td>\n",
       "    </tr>\n",
       "    <tr>\n",
       "      <th>14756</th>\n",
       "      <td>Loss</td>\n",
       "      <td>0.4573</td>\n",
       "      <td>0.5188</td>\n",
       "      <td>0.138231</td>\n",
       "      <td>0.110220</td>\n",
       "      <td>0.160000</td>\n",
       "      <td>0.842105</td>\n",
       "      <td>0.146341</td>\n",
       "      <td>0.250000</td>\n",
       "    </tr>\n",
       "    <tr>\n",
       "      <th>14757</th>\n",
       "      <td>Win</td>\n",
       "      <td>0.5188</td>\n",
       "      <td>0.4573</td>\n",
       "      <td>0.110220</td>\n",
       "      <td>0.138231</td>\n",
       "      <td>0.157895</td>\n",
       "      <td>0.840000</td>\n",
       "      <td>0.250000</td>\n",
       "      <td>0.146341</td>\n",
       "    </tr>\n",
       "  </tbody>\n",
       "</table>\n",
       "</div>"
      ],
      "text/plain": [
       "      teamRslt  teamEFG%  opptEFG%  teamTOV%  opptTOV%  teamOREB%  teamDREB%  \\\n",
       "0         Loss    0.4000    0.5000  0.116279  0.191466   0.333333   0.538462   \n",
       "1          Win    0.5000    0.4000  0.191466  0.116279   0.461538   0.666667   \n",
       "14756     Loss    0.4573    0.5188  0.138231  0.110220   0.160000   0.842105   \n",
       "14757      Win    0.5188    0.4573  0.110220  0.138231   0.157895   0.840000   \n",
       "\n",
       "       teamFTR%  opptFTR%  \n",
       "0      0.222222  0.278481  \n",
       "1      0.278481  0.222222  \n",
       "14756  0.146341  0.250000  \n",
       "14757  0.250000  0.146341  "
      ]
     },
     "execution_count": 55,
     "metadata": {},
     "output_type": "execute_result"
    }
   ],
   "source": [
    "data = data[['teamRslt','teamEFG%','opptEFG%','teamTOV%','opptTOV%','teamOREB%','teamDREB%','teamFTR%','opptFTR%']]\n",
    "data.head(2).append(data.tail(2))"
   ]
  },
  {
   "cell_type": "code",
   "execution_count": 56,
   "metadata": {},
   "outputs": [
    {
     "data": {
      "text/plain": [
       "teamRslt     0\n",
       "teamEFG%     0\n",
       "opptEFG%     0\n",
       "teamTOV%     0\n",
       "opptTOV%     0\n",
       "teamOREB%    0\n",
       "teamDREB%    0\n",
       "teamFTR%     0\n",
       "opptFTR%     0\n",
       "dtype: int64"
      ]
     },
     "execution_count": 56,
     "metadata": {},
     "output_type": "execute_result"
    }
   ],
   "source": [
    "#查看是否存在缺失值\n",
    "data.isnull().sum()"
   ]
  },
  {
   "cell_type": "code",
   "execution_count": 57,
   "metadata": {},
   "outputs": [
    {
     "data": {
      "text/html": [
       "<div>\n",
       "<style scoped>\n",
       "    .dataframe tbody tr th:only-of-type {\n",
       "        vertical-align: middle;\n",
       "    }\n",
       "\n",
       "    .dataframe tbody tr th {\n",
       "        vertical-align: top;\n",
       "    }\n",
       "\n",
       "    .dataframe thead th {\n",
       "        text-align: right;\n",
       "    }\n",
       "</style>\n",
       "<table border=\"1\" class=\"dataframe\">\n",
       "  <thead>\n",
       "    <tr style=\"text-align: right;\">\n",
       "      <th></th>\n",
       "      <th>teamRslt</th>\n",
       "      <th>teamEFG%</th>\n",
       "      <th>opptEFG%</th>\n",
       "      <th>teamTOV%</th>\n",
       "      <th>opptTOV%</th>\n",
       "      <th>teamOREB%</th>\n",
       "      <th>teamDREB%</th>\n",
       "      <th>teamFTR%</th>\n",
       "      <th>opptFTR%</th>\n",
       "      <th>target</th>\n",
       "    </tr>\n",
       "  </thead>\n",
       "  <tbody>\n",
       "    <tr>\n",
       "      <th>0</th>\n",
       "      <td>Loss</td>\n",
       "      <td>0.4000</td>\n",
       "      <td>0.5000</td>\n",
       "      <td>0.116279</td>\n",
       "      <td>0.191466</td>\n",
       "      <td>0.333333</td>\n",
       "      <td>0.538462</td>\n",
       "      <td>0.222222</td>\n",
       "      <td>0.278481</td>\n",
       "      <td>0</td>\n",
       "    </tr>\n",
       "    <tr>\n",
       "      <th>1</th>\n",
       "      <td>Win</td>\n",
       "      <td>0.5000</td>\n",
       "      <td>0.4000</td>\n",
       "      <td>0.191466</td>\n",
       "      <td>0.116279</td>\n",
       "      <td>0.461538</td>\n",
       "      <td>0.666667</td>\n",
       "      <td>0.278481</td>\n",
       "      <td>0.222222</td>\n",
       "      <td>1</td>\n",
       "    </tr>\n",
       "    <tr>\n",
       "      <th>2</th>\n",
       "      <td>Loss</td>\n",
       "      <td>0.5600</td>\n",
       "      <td>0.5949</td>\n",
       "      <td>0.154859</td>\n",
       "      <td>0.079145</td>\n",
       "      <td>0.184211</td>\n",
       "      <td>0.871795</td>\n",
       "      <td>0.373333</td>\n",
       "      <td>0.405063</td>\n",
       "      <td>0</td>\n",
       "    </tr>\n",
       "    <tr>\n",
       "      <th>3</th>\n",
       "      <td>Win</td>\n",
       "      <td>0.5949</td>\n",
       "      <td>0.5600</td>\n",
       "      <td>0.079145</td>\n",
       "      <td>0.154859</td>\n",
       "      <td>0.128205</td>\n",
       "      <td>0.815789</td>\n",
       "      <td>0.405063</td>\n",
       "      <td>0.373333</td>\n",
       "      <td>1</td>\n",
       "    </tr>\n",
       "    <tr>\n",
       "      <th>4</th>\n",
       "      <td>Win</td>\n",
       "      <td>0.5000</td>\n",
       "      <td>0.5130</td>\n",
       "      <td>0.114373</td>\n",
       "      <td>0.133792</td>\n",
       "      <td>0.225000</td>\n",
       "      <td>0.673913</td>\n",
       "      <td>0.211765</td>\n",
       "      <td>0.402597</td>\n",
       "      <td>1</td>\n",
       "    </tr>\n",
       "  </tbody>\n",
       "</table>\n",
       "</div>"
      ],
      "text/plain": [
       "  teamRslt  teamEFG%  opptEFG%  teamTOV%  opptTOV%  teamOREB%  teamDREB%  \\\n",
       "0     Loss    0.4000    0.5000  0.116279  0.191466   0.333333   0.538462   \n",
       "1      Win    0.5000    0.4000  0.191466  0.116279   0.461538   0.666667   \n",
       "2     Loss    0.5600    0.5949  0.154859  0.079145   0.184211   0.871795   \n",
       "3      Win    0.5949    0.5600  0.079145  0.154859   0.128205   0.815789   \n",
       "4      Win    0.5000    0.5130  0.114373  0.133792   0.225000   0.673913   \n",
       "\n",
       "   teamFTR%  opptFTR%  target  \n",
       "0  0.222222  0.278481       0  \n",
       "1  0.278481  0.222222       1  \n",
       "2  0.373333  0.405063       0  \n",
       "3  0.405063  0.373333       1  \n",
       "4  0.211765  0.402597       1  "
      ]
     },
     "execution_count": 57,
     "metadata": {},
     "output_type": "execute_result"
    }
   ],
   "source": [
    "#将文本数据转化为分类变量\n",
    "data['target'] = data['teamRslt'].map(lambda x:1 if x == 'Win' else 0)\n",
    "data.head()"
   ]
  },
  {
   "cell_type": "code",
   "execution_count": 58,
   "metadata": {},
   "outputs": [
    {
     "data": {
      "text/plain": [
       "(14758,)"
      ]
     },
     "execution_count": 58,
     "metadata": {},
     "output_type": "execute_result"
    }
   ],
   "source": [
    "\n",
    "col=['teamEFG%','opptEFG%','teamTOV%','opptTOV%','teamOREB%','teamDREB%','teamFTR%','opptFTR%']\n",
    "X=data[col]\n",
    "y =data['target']\n",
    "X.tail()\n",
    "X.shape\n",
    "y.shape"
   ]
  },
  {
   "cell_type": "code",
   "execution_count": 59,
   "metadata": {},
   "outputs": [
    {
     "data": {
      "text/plain": [
       "(4428,)"
      ]
     },
     "execution_count": 59,
     "metadata": {},
     "output_type": "execute_result"
    }
   ],
   "source": [
    "# 拆分训练集和测试集\n",
    "from sklearn.model_selection import train_test_split\n",
    "X_train, X_test, y_train, y_test = train_test_split(X, y, test_size=0.3, random_state=123)\n",
    "y_test.shape "
   ]
  },
  {
   "cell_type": "code",
   "execution_count": 60,
   "metadata": {},
   "outputs": [
    {
     "name": "stdout",
     "output_type": "stream",
     "text": [
      "CPU times: user 106 ms, sys: 38.4 ms, total: 145 ms\n",
      "Wall time: 72.7 ms\n"
     ]
    },
    {
     "data": {
      "text/plain": [
       "0.9311201445347786"
      ]
     },
     "execution_count": 60,
     "metadata": {},
     "output_type": "execute_result"
    }
   ],
   "source": [
    "# Logistic Regression Model\n",
    "\n",
    "logreg = LogisticRegression()\n",
    "%time logreg.fit(X_train, y_train.values.reshape(-1))\n",
    "y_pred = logreg.predict(X_test)\n",
    "logreg.score(X_test,y_test)"
   ]
  },
  {
   "cell_type": "code",
   "execution_count": 61,
   "metadata": {},
   "outputs": [
    {
     "name": "stdout",
     "output_type": "stream",
     "text": [
      "CPU times: user 4.55 s, sys: 283 ms, total: 4.84 s\n",
      "Wall time: 4.86 s\n"
     ]
    },
    {
     "data": {
      "text/plain": [
       "0.9451219512195121"
      ]
     },
     "execution_count": 61,
     "metadata": {},
     "output_type": "execute_result"
    }
   ],
   "source": [
    "# Support Vector Classifier Model\n",
    "\n",
    "from sklearn.svm import SVC\n",
    "from sklearn import svm\n",
    "clf = SVC(gamma='scale',probability=True)\n",
    "%time clf.fit(X_train, y_train)\n",
    "clf.score(X_test,y_test)"
   ]
  },
  {
   "cell_type": "code",
   "execution_count": 62,
   "metadata": {},
   "outputs": [
    {
     "name": "stdout",
     "output_type": "stream",
     "text": [
      "CPU times: user 53.1 ms, sys: 3.82 ms, total: 56.9 ms\n",
      "Wall time: 56.8 ms\n"
     ]
    },
    {
     "data": {
      "text/plain": [
       "0.9444444444444444"
      ]
     },
     "execution_count": 62,
     "metadata": {},
     "output_type": "execute_result"
    }
   ],
   "source": [
    "# Linear Support Vector Classifier Model\n",
    "\n",
    "from sklearn.svm import LinearSVC\n",
    "lclf = LinearSVC(random_state=0, tol=1e-5, max_iter=1000)\n",
    "%time lclf.fit(X_train, y_train)\n",
    "lclf.score(X_test,y_test)"
   ]
  },
  {
   "cell_type": "code",
   "execution_count": 63,
   "metadata": {},
   "outputs": [
    {
     "name": "stdout",
     "output_type": "stream",
     "text": [
      "CPU times: user 3.65 s, sys: 144 ms, total: 3.8 s\n",
      "Wall time: 3.28 s\n"
     ]
    },
    {
     "data": {
      "text/plain": [
       "0.9453477868112015"
      ]
     },
     "execution_count": 63,
     "metadata": {},
     "output_type": "execute_result"
    }
   ],
   "source": [
    "# BaggingSVC Ensemble classification Model\n",
    "from sklearn.svm import SVC\n",
    "from sklearn.ensemble import BaggingClassifier\n",
    "advclf = BaggingClassifier(base_estimator=SVC(gamma='scale'), n_estimators=10, random_state=0)\n",
    "%time advclf.fit(X_train, y_train)\n",
    "advclf.score(X_test,y_test)"
   ]
  },
  {
   "cell_type": "code",
   "execution_count": 64,
   "metadata": {},
   "outputs": [
    {
     "name": "stdout",
     "output_type": "stream",
     "text": [
      "CPU times: user 2.67 s, sys: 24 ms, total: 2.7 s\n",
      "Wall time: 2.71 s\n"
     ]
    },
    {
     "data": {
      "text/plain": [
       "0.8970189701897019"
      ]
     },
     "execution_count": 64,
     "metadata": {},
     "output_type": "execute_result"
    }
   ],
   "source": [
    "# Random Forest Classifier Model\n",
    "from sklearn.ensemble import RandomForestClassifier\n",
    "rdf = RandomForestClassifier(max_depth=8, random_state=0, n_estimators=300)\n",
    "%time rdf.fit(X_train, y_train)\n",
    "rdf.score(X_test,y_test)"
   ]
  },
  {
   "cell_type": "code",
   "execution_count": 65,
   "metadata": {},
   "outputs": [
    {
     "name": "stdout",
     "output_type": "stream",
     "text": [
      "CPU times: user 9.34 ms, sys: 2.44 ms, total: 11.8 ms\n",
      "Wall time: 12.2 ms\n"
     ]
    },
    {
     "data": {
      "text/plain": [
       "0.8873080397470642"
      ]
     },
     "execution_count": 65,
     "metadata": {},
     "output_type": "execute_result"
    }
   ],
   "source": [
    "# KNeighbors Classifier Model\n",
    "from sklearn.neighbors import KNeighborsClassifier\n",
    "from sklearn import preprocessing\n",
    "knn = KNeighborsClassifier(n_neighbors=10)\n",
    "%time knn.fit(X_train, y_train)\n",
    "knn.score(X_test, y_test)"
   ]
  },
  {
   "cell_type": "code",
   "execution_count": 66,
   "metadata": {
    "scrolled": true
   },
   "outputs": [
    {
     "name": "stdout",
     "output_type": "stream",
     "text": [
      "CPU times: user 2.16 s, sys: 225 ms, total: 2.38 s\n",
      "Wall time: 339 ms\n",
      "0.9295392953929539\n"
     ]
    }
   ],
   "source": [
    "# XGBoost Model\n",
    "import xgboost\n",
    "from xgboost import XGBClassifier\n",
    "from sklearn.metrics import accuracy_score\n",
    "xgbModel = XGBClassifier()\n",
    "%time xgbModel.fit(X_train, y_train)\n",
    "xgbPredictions = xgbModel.predict(X_test)\n",
    "xgbAccuracy = accuracy_score(y_test, xgbPredictions)\n",
    "print(xgbAccuracy)"
   ]
  },
  {
   "cell_type": "code",
   "execution_count": null,
   "metadata": {},
   "outputs": [],
   "source": []
  }
 ],
 "metadata": {
  "colab": {
   "name": "Why Linear Regression is not suitable for Binary Classification",
   "provenance": [],
   "version": "0.3.2"
  },
  "kernelspec": {
   "display_name": "Python 3",
   "language": "python",
   "name": "python3"
  },
  "language_info": {
   "codemirror_mode": {
    "name": "ipython",
    "version": 3
   },
   "file_extension": ".py",
   "mimetype": "text/x-python",
   "name": "python",
   "nbconvert_exporter": "python",
   "pygments_lexer": "ipython3",
   "version": "3.8.3"
  }
 },
 "nbformat": 4,
 "nbformat_minor": 4
}
